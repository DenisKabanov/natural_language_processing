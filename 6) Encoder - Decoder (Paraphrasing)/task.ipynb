{
 "cells": [
  {
   "cell_type": "markdown",
   "metadata": {},
   "source": [
    "# Задание"
   ]
  },
  {
   "cell_type": "markdown",
   "metadata": {},
   "source": [
    "Построить нейронную сеть по архитектуре ***Encoder – Decoder***, что должна переводить токсичные комменты в нетоксичные (***Paraphrasing***/***Translation***).\n",
    "* В архитектуре сети обязательно использование слоя эмбеддинга и LSTM (реализация с помощью ***Keras***)."
   ]
  },
  {
   "cell_type": "markdown",
   "metadata": {},
   "source": [
    "# Настройки/Импорты"
   ]
  },
  {
   "cell_type": "markdown",
   "metadata": {},
   "source": [
    "Версии важных модулей:\n",
    "* pandas==2.1.1\n",
    "* numpy==1.26.2\n",
    "* keras==3.3.3\n",
    "* tensorflow==2.16.1 (no GPU)\n",
    "* matplotlib==3.6.2\n",
    "* navec==0.10.0"
   ]
  },
  {
   "cell_type": "code",
   "execution_count": 1,
   "metadata": {},
   "outputs": [],
   "source": [
    "import numpy as np # для работы с массивами\n",
    "import pandas as pd # для удобной работы с датасетом\n",
    "\n",
    "import re # для регулярных выражений\n",
    "\n",
    "from nltk.tokenize import word_tokenize # для токенизации строк\n",
    "from tensorflow.keras.preprocessing.text import Tokenizer # токенизатор текста (на версии keras 2.15.0 можно было не тягать из tensorflow)\n",
    "from keras.utils import pad_sequences # для приведения векторов токенов к единой размерности\n",
    "from navec import Navec # для русскоязычных эмбеддингов\n",
    "\n",
    "from keras.layers import Input, Dense, Embedding, LSTM # слои для нейронной сети\n",
    "from keras.models import Model # Keras модель (не последовательная)\n",
    "from keras.callbacks import ModelCheckpoint, EarlyStopping # callback функции\n",
    "import keras # для работы с моделью\n",
    "\n",
    "import matplotlib.pyplot as plt # для построения графиков\n",
    "import time # для отслеживания времени выполнения"
   ]
  },
  {
   "cell_type": "code",
   "execution_count": 2,
   "metadata": {},
   "outputs": [],
   "source": [
    "DATA_DIR = \"./data/\" # путь до папки с данными\n",
    "EMBEDDING_DIR = \"./embeddings/\" # путь до папки с эмбеддингами\n",
    "MODELS_DIR = \"./models/\" # путь до папки с моделями\n",
    "RANDOM_STATE = 42 # число для задания случайности\n",
    "DTYPE = np.float32 # используемый тип\n",
    "\n",
    "MAX_WORDS_TOKENIZER = None # ограничение на число слов в словаре токенизатора (None — без ограничения)\n",
    "MAX_LEN = 39 # оптимальное число токенов в документе (если не достаёт — padding, если перебор — truncation), определялось по гистограмме распределения числа токенов в текстах\n",
    "ENCODING_DIM = 256  # итоговая размерность пространства, в которое будет преобразован выход энкодера (такая же размерность входа у декодера)\n",
    "EMBEDDING_DIM = 300 # размерность вектора-эмбеддинга слова\n",
    "\n",
    "EPOCHS_PATIENCE = 50 # число эпох без изменения наблюдаемой метрики, после которого обучение прекратится\n",
    "EPOCHS = 500 # число эпох обучения\n",
    "LEARNING_RATE = 0.001 # learning rate\n",
    "BATCH_SIZE = 10 # размер батча (число сэмплов, передаваемых в модель одновременно => чем больше значение - тем быстрее обучение, но хуже качество из-за аккумуляции градиентов)"
   ]
  },
  {
   "cell_type": "markdown",
   "metadata": {},
   "source": [
    "# Предобработка датасета"
   ]
  },
  {
   "cell_type": "code",
   "execution_count": 3,
   "metadata": {},
   "outputs": [
    {
     "data": {
      "text/html": [
       "<div>\n",
       "<style scoped>\n",
       "    .dataframe tbody tr th:only-of-type {\n",
       "        vertical-align: middle;\n",
       "    }\n",
       "\n",
       "    .dataframe tbody tr th {\n",
       "        vertical-align: top;\n",
       "    }\n",
       "\n",
       "    .dataframe thead th {\n",
       "        text-align: right;\n",
       "    }\n",
       "</style>\n",
       "<table border=\"1\" class=\"dataframe\">\n",
       "  <thead>\n",
       "    <tr style=\"text-align: right;\">\n",
       "      <th></th>\n",
       "      <th>Toxic comment</th>\n",
       "      <th>Polite comment</th>\n",
       "    </tr>\n",
       "  </thead>\n",
       "  <tbody>\n",
       "    <tr>\n",
       "      <th>0</th>\n",
       "      <td>почитай посты у этого автора, дебил.</td>\n",
       "      <td>попробуйте почитать посты этого автора, может ...</td>\n",
       "    </tr>\n",
       "    <tr>\n",
       "      <th>1</th>\n",
       "      <td>мне жаль тебя, гандон, если для тебя оскорблен...</td>\n",
       "      <td>извините, но мне вас очень жаль, если для вас ...</td>\n",
       "    </tr>\n",
       "    <tr>\n",
       "      <th>2</th>\n",
       "      <td>тебе в говне ходить нормально, урод?</td>\n",
       "      <td>извини, но приятно бы тебе было ходить в грязном?</td>\n",
       "    </tr>\n",
       "    <tr>\n",
       "      <th>3</th>\n",
       "      <td>блять, я согласен, что энергия от виэ на текущ...</td>\n",
       "      <td>я согласен с вами, что энергия от виэ на текущ...</td>\n",
       "    </tr>\n",
       "    <tr>\n",
       "      <th>4</th>\n",
       "      <td>я этим сраным ватсаппом никогда не пользовался...</td>\n",
       "      <td>просто я, к сожалению, ватсаппом никогда не по...</td>\n",
       "    </tr>\n",
       "    <tr>\n",
       "      <th>...</th>\n",
       "      <td>...</td>\n",
       "      <td>...</td>\n",
       "    </tr>\n",
       "    <tr>\n",
       "      <th>194</th>\n",
       "      <td>Пошел нахуй с тупичка</td>\n",
       "      <td>Уходите с тупичка</td>\n",
       "    </tr>\n",
       "    <tr>\n",
       "      <th>195</th>\n",
       "      <td>Да уж, ебаные татары русское население мягко г...</td>\n",
       "      <td>Да уж, татары русское население мягко говоря н...</td>\n",
       "    </tr>\n",
       "    <tr>\n",
       "      <th>196</th>\n",
       "      <td>Умный дурак в два раза опасней</td>\n",
       "      <td>Умный глупец в два раза опасней</td>\n",
       "    </tr>\n",
       "    <tr>\n",
       "      <th>197</th>\n",
       "      <td>Это беседа одного того самого имбецила?</td>\n",
       "      <td>Это беседа одного того самого человека?</td>\n",
       "    </tr>\n",
       "    <tr>\n",
       "      <th>198</th>\n",
       "      <td>Да и хер с ними, спорт дерьмо</td>\n",
       "      <td>Да и бог с ними, спорт ужасен</td>\n",
       "    </tr>\n",
       "  </tbody>\n",
       "</table>\n",
       "<p>199 rows × 2 columns</p>\n",
       "</div>"
      ],
      "text/plain": [
       "                                         Toxic comment  \\\n",
       "0                почитай посты у этого автора, дебил.    \n",
       "1    мне жаль тебя, гандон, если для тебя оскорблен...   \n",
       "2                 тебе в говне ходить нормально, урод?   \n",
       "3    блять, я согласен, что энергия от виэ на текущ...   \n",
       "4    я этим сраным ватсаппом никогда не пользовался...   \n",
       "..                                                 ...   \n",
       "194                              Пошел нахуй с тупичка   \n",
       "195  Да уж, ебаные татары русское население мягко г...   \n",
       "196                     Умный дурак в два раза опасней   \n",
       "197            Это беседа одного того самого имбецила?   \n",
       "198                      Да и хер с ними, спорт дерьмо   \n",
       "\n",
       "                                        Polite comment  \n",
       "0    попробуйте почитать посты этого автора, может ...  \n",
       "1    извините, но мне вас очень жаль, если для вас ...  \n",
       "2    извини, но приятно бы тебе было ходить в грязном?  \n",
       "3    я согласен с вами, что энергия от виэ на текущ...  \n",
       "4    просто я, к сожалению, ватсаппом никогда не по...  \n",
       "..                                                 ...  \n",
       "194                                  Уходите с тупичка  \n",
       "195  Да уж, татары русское население мягко говоря н...  \n",
       "196                    Умный глупец в два раза опасней  \n",
       "197            Это беседа одного того самого человека?  \n",
       "198                      Да и бог с ними, спорт ужасен  \n",
       "\n",
       "[199 rows x 2 columns]"
      ]
     },
     "execution_count": 3,
     "metadata": {},
     "output_type": "execute_result"
    }
   ],
   "source": [
    "dataset = pd.read_excel(DATA_DIR + \"dataset_200.xls\", index_col=None) # считывание excel данных (index_col — какой столбец из данных использовать как индексы в DataFrame)\n",
    "dataset"
   ]
  },
  {
   "cell_type": "markdown",
   "metadata": {},
   "source": [
    "## Токенизация"
   ]
  },
  {
   "cell_type": "markdown",
   "metadata": {},
   "source": [
    "Добавление токенов старта и конца."
   ]
  },
  {
   "cell_type": "code",
   "execution_count": 4,
   "metadata": {},
   "outputs": [
    {
     "data": {
      "text/plain": [
       "['<start> почитай посты у этого автора , дебил . <end>',\n",
       " '<start> мне жаль тебя , гандон , если для тебя оскорбления - норма . <end>',\n",
       " '<start> тебе в говне ходить нормально , урод ? <end>',\n",
       " '<start> блять , я согласен , что энергия от виэ на текущий момент дороже . но объясните мне , нахуя правительства всех стран мира стараются развить эту ебанину ? ! нахрена развивать нечто , заведомо убыточное ? ! <end>',\n",
       " '<start> я этим сраным ватсаппом никогда не пользовался , а теперь придется ставить ради одного дебильного турнира . пиздец <end>']"
      ]
     },
     "execution_count": 4,
     "metadata": {},
     "output_type": "execute_result"
    }
   ],
   "source": [
    "dataset[\"Toxic comment\"] = dataset[\"Toxic comment\"].apply(lambda text: word_tokenize(text)) # разбиваем текст на слова (токены)\n",
    "dataset[\"Toxic comment\"] = dataset[\"Toxic comment\"].apply(lambda sequence: [\"<start>\"] + sequence + [\"<end>\"]) # добавление токенов старта (<start>) и конца (<end>)\n",
    "dataset[\"Toxic comment\"] = dataset[\"Toxic comment\"].apply(lambda sequence: \" \".join(sequence)) # собираем последовательность слов обратно в строку, но теперь даже служебные символы разделены пробелами\n",
    "\n",
    "dataset[\"Polite comment\"] = dataset[\"Polite comment\"].apply(lambda text: word_tokenize(text)) # разбиваем текст на слова (токены)\n",
    "dataset[\"Polite comment\"] = dataset[\"Polite comment\"].apply(lambda sequence: [\"<start>\"] + sequence + [\"<end>\"]) # добавление токенов старта (<start>) и конца (<end>)\n",
    "dataset[\"Polite comment\"] = dataset[\"Polite comment\"].apply(lambda sequence: \" \".join(sequence)) # собираем последовательность слов обратно в строку, но теперь даже служебные символы разделены пробелами\n",
    "\n",
    "texts = dataset[\"Toxic comment\"].tolist() + dataset[\"Polite comment\"].tolist() # собираем все текста в один список\n",
    "texts[:5] # пример первых пяти получившихся элементов"
   ]
  },
  {
   "cell_type": "markdown",
   "metadata": {},
   "source": [
    "Конвертация строк (документов) в последовательности токенов."
   ]
  },
  {
   "cell_type": "code",
   "execution_count": 5,
   "metadata": {},
   "outputs": [],
   "source": [
    "tokenizer = Tokenizer(num_words=MAX_WORDS_TOKENIZER, filters='', lower=True, split=\" \", char_level=False, oov_token='<OOV>') # создаём объект токенизатора, без ограничения числа токенов (num_words=None)\n",
    "tokenizer.fit_on_texts(texts) # обучаем токенизатор на текстах"
   ]
  },
  {
   "cell_type": "code",
   "execution_count": 6,
   "metadata": {},
   "outputs": [
    {
     "name": "stdout",
     "output_type": "stream",
     "text": [
      "Число уникальных слов в корпусе: 1316.\n"
     ]
    },
    {
     "data": {
      "text/plain": [
       "[('<OOV>', 1),\n",
       " (',', 2),\n",
       " ('<start>', 3),\n",
       " ('<end>', 4),\n",
       " ('.', 5),\n",
       " ('?', 6),\n",
       " ('не', 7),\n",
       " ('и', 8),\n",
       " ('что', 9),\n",
       " ('в', 10)]"
      ]
     },
     "execution_count": 6,
     "metadata": {},
     "output_type": "execute_result"
    }
   ],
   "source": [
    "word2id = tokenizer.word_index # словарь соответствия слова его id_шнику (не ограничены MAX_FEATURES)\n",
    "id2word = tokenizer.index_word # словарь соответствия id_шника слову (не ограничены MAX_FEATURES)\n",
    "\n",
    "vocab_size = len(id2word) # число слов в корпусе\n",
    "docs_count = len(dataset) # число документов в корпусе\n",
    "\n",
    "print(f\"Число уникальных слов в корпусе: {vocab_size}.\") # включая специальные токены\n",
    "list(word2id.items())[:10] # первые 10 элементов словаря конвертации слова в токен (id)"
   ]
  },
  {
   "cell_type": "code",
   "execution_count": 7,
   "metadata": {},
   "outputs": [
    {
     "name": "stdout",
     "output_type": "stream",
     "text": [
      "Пример токенизации документа: [3, 197, 1134, 60, 56, 256, 2, 78, 238, 38, 1135, 1136, 117, 215, 1137, 5, 113, 2, 16, 1138, 1139, 31, 4].\n"
     ]
    }
   ],
   "source": [
    "encoded_toxic = tokenizer.texts_to_sequences(dataset[\"Toxic comment\"]) # токенизируем документы\n",
    "encoded_polite = tokenizer.texts_to_sequences(dataset[\"Polite comment\"]) # токенизируем документы\n",
    "\n",
    "print(f\"Пример токенизации документа: {encoded_polite[0]}.\") # пример токенизации первого документа"
   ]
  },
  {
   "cell_type": "markdown",
   "metadata": {},
   "source": [
    "Пример получившегося преобразования в токены:"
   ]
  },
  {
   "cell_type": "code",
   "execution_count": 8,
   "metadata": {},
   "outputs": [
    {
     "name": "stdout",
     "output_type": "stream",
     "text": [
      "3 — <start>\n",
      "197 — попробуйте\n",
      "1134 — почитать\n",
      "60 — посты\n",
      "56 — этого\n",
      "256 — автора\n",
      "2 — ,\n",
      "78 — может\n",
      "238 — быть\n",
      "38 — вам\n",
      "1135 — удастся\n",
      "1136 — найти\n",
      "117 — там\n",
      "215 — что-то\n",
      "1137 — полезное\n",
      "5 — .\n",
      "113 — надеюсь\n",
      "2 — ,\n",
      "16 — я\n",
      "1138 — смог\n",
      "1139 — помочь\n",
      "31 — )\n",
      "4 — <end>\n"
     ]
    }
   ],
   "source": [
    "for token in encoded_polite[0]: # идём по токенам примера 0\n",
    "    print(f\"{token} — {id2word[token]}\") # выводи токен (id) и соответствующее ему слово"
   ]
  },
  {
   "cell_type": "markdown",
   "metadata": {},
   "source": [
    "Приведение последовательностей токенов к одной длине (размерности)."
   ]
  },
  {
   "cell_type": "code",
   "execution_count": 9,
   "metadata": {},
   "outputs": [
    {
     "name": "stdout",
     "output_type": "stream",
     "text": [
      "Максимальная длина документа в токенах: 39.\n"
     ]
    }
   ],
   "source": [
    "lengths = [] # список под длины документов в токенах\n",
    "for doc in encoded_toxic + encoded_polite: # идём по токенизированным документам\n",
    "    lengths.append(len(doc)) # добавляем число токенов в документе в список\n",
    "\n",
    "print(f\"Максимальная длина документа в токенах: {max(lengths)}.\")"
   ]
  },
  {
   "cell_type": "code",
   "execution_count": 10,
   "metadata": {},
   "outputs": [
    {
     "data": {
      "image/png": "[encoded data removed]",
      "text/plain": [
       "<Figure size 720x576 with 1 Axes>"
      ]
     },
     "metadata": {
      "needs_background": "light"
     },
     "output_type": "display_data"
    }
   ],
   "source": [
    "plt.figure(figsize=(10,8)) # задание размера фигуры\n",
    "plt.hist(lengths, bins=20) # построение столбчатой диаграммы по данным\n",
    "plt.title(\"Распределение длин документов в токенах\") # название фигуры\n",
    "plt.xlabel(\"Длина документа\") # подпись по оси x\n",
    "plt.ylabel(\"Количество записей\") # подпись по оси y\n",
    "plt.show() # показ фигуры"
   ]
  },
  {
   "cell_type": "code",
   "execution_count": 11,
   "metadata": {},
   "outputs": [
    {
     "name": "stdout",
     "output_type": "stream",
     "text": [
      "Финальная размерность токенизированных документов: сэмплов — 199, токенов — 39.\n"
     ]
    },
    {
     "data": {
      "text/plain": [
       "array([[   3,  197, 1134, ...,    0,    0,    0],\n",
       "       [   3,  198,    2, ...,    0,    0,    0],\n",
       "       [   3,  216,    2, ...,    0,    0,    0],\n",
       "       ...,\n",
       "       [   3,  844, 1314, ...,    0,    0,    0],\n",
       "       [   3,   23,  848, ...,    0,    0,    0],\n",
       "       [   3,   27,    8, ...,    0,    0,    0]])"
      ]
     },
     "execution_count": 11,
     "metadata": {},
     "output_type": "execute_result"
    }
   ],
   "source": [
    "padded_toxic = pad_sequences(encoded_toxic, maxlen=MAX_LEN, padding=\"post\", truncating=\"post\", value=0) # приводим вектора токенов к единой размерности MAX_LEN с помощью padding_а и truncating_а (заполняем значением value)\n",
    "padded_polite = pad_sequences(encoded_polite, maxlen=MAX_LEN, padding=\"post\", truncating=\"post\", value=0) # приводим вектора токенов к единой размерности MAX_LEN с помощью padding_а и truncating_а (заполняем значением value)\n",
    "\n",
    "print(f\"Финальная размерность токенизированных документов: сэмплов — {padded_polite.shape[0]}, токенов — {padded_polite.shape[1]}.\")\n",
    "padded_polite"
   ]
  },
  {
   "cell_type": "code",
   "execution_count": 12,
   "metadata": {},
   "outputs": [],
   "source": [
    "id2word[0] = \"<pad>\" # добавление токена пропуска (<pad>) под индексом 0\n",
    "word2id[\"<pad>\"] = 0 # добавление токена пропуска (<pad>) под индексом 0\n",
    "vocab_size += 1 # увеличение размера словаря под токен паддинга (идёт под индексом 0)"
   ]
  },
  {
   "cell_type": "markdown",
   "metadata": {},
   "source": [
    "## Подготовка данных для обучения"
   ]
  },
  {
   "cell_type": "code",
   "execution_count": 13,
   "metadata": {},
   "outputs": [],
   "source": [
    "target_data = np.zeros(shape=(docs_count, MAX_LEN, vocab_size), dtype=DTYPE) # трёхмерный массив размерности (число документов, число токенов в документе, размер словаря) — таргеты (вероятности слова-токена word_id, что является t-ым токеном в d-м документе)\n",
    "for d, doc_tokenized in enumerate(padded_polite): # идём по документам в корпусе\n",
    "    for t, word_id in enumerate(doc_tokenized[1:]): # идём по токенам в документе (пропуская первый, <start>, так как он и так будет предоставлен)\n",
    "        if word_id > 0: # если токен не нулевой (паддинга)\n",
    "            target_data[d][t][word_id] = 1 # ставим ему вероятность = 1 (у всех остальных будут нулю на размерности, отвечающей за vocab_size)\n",
    "            # у всех токенов, что имеют значение паддинга, вероятности будут равные нулю (чтобы в них вообще ничего не предсказывалось)"
   ]
  },
  {
   "cell_type": "code",
   "execution_count": 14,
   "metadata": {},
   "outputs": [
    {
     "data": {
      "text/plain": [
       "array([[[0., 0., 0., ..., 0., 0., 0.],\n",
       "        [0., 0., 0., ..., 0., 0., 0.],\n",
       "        [0., 0., 0., ..., 0., 0., 0.],\n",
       "        ...,\n",
       "        [0., 0., 0., ..., 0., 0., 0.],\n",
       "        [0., 0., 0., ..., 0., 0., 0.],\n",
       "        [0., 0., 0., ..., 0., 0., 0.]],\n",
       "\n",
       "       [[0., 0., 0., ..., 0., 0., 0.],\n",
       "        [0., 0., 1., ..., 0., 0., 0.],\n",
       "        [0., 0., 0., ..., 0., 0., 0.],\n",
       "        ...,\n",
       "        [0., 0., 0., ..., 0., 0., 0.],\n",
       "        [0., 0., 0., ..., 0., 0., 0.],\n",
       "        [0., 0., 0., ..., 0., 0., 0.]],\n",
       "\n",
       "       [[0., 0., 0., ..., 0., 0., 0.],\n",
       "        [0., 0., 1., ..., 0., 0., 0.],\n",
       "        [0., 0., 0., ..., 0., 0., 0.],\n",
       "        ...,\n",
       "        [0., 0., 0., ..., 0., 0., 0.],\n",
       "        [0., 0., 0., ..., 0., 0., 0.],\n",
       "        [0., 0., 0., ..., 0., 0., 0.]],\n",
       "\n",
       "       ...,\n",
       "\n",
       "       [[0., 0., 0., ..., 0., 0., 0.],\n",
       "        [0., 0., 0., ..., 1., 0., 0.],\n",
       "        [0., 0., 0., ..., 0., 0., 0.],\n",
       "        ...,\n",
       "        [0., 0., 0., ..., 0., 0., 0.],\n",
       "        [0., 0., 0., ..., 0., 0., 0.],\n",
       "        [0., 0., 0., ..., 0., 0., 0.]],\n",
       "\n",
       "       [[0., 0., 0., ..., 0., 0., 0.],\n",
       "        [0., 0., 0., ..., 0., 0., 0.],\n",
       "        [0., 0., 0., ..., 0., 0., 0.],\n",
       "        ...,\n",
       "        [0., 0., 0., ..., 0., 0., 0.],\n",
       "        [0., 0., 0., ..., 0., 0., 0.],\n",
       "        [0., 0., 0., ..., 0., 0., 0.]],\n",
       "\n",
       "       [[0., 0., 0., ..., 0., 0., 0.],\n",
       "        [0., 0., 0., ..., 0., 0., 0.],\n",
       "        [0., 0., 0., ..., 0., 1., 0.],\n",
       "        ...,\n",
       "        [0., 0., 0., ..., 0., 0., 0.],\n",
       "        [0., 0., 0., ..., 0., 0., 0.],\n",
       "        [0., 0., 0., ..., 0., 0., 0.]]], dtype=float32)"
      ]
     },
     "execution_count": 14,
     "metadata": {},
     "output_type": "execute_result"
    }
   ],
   "source": [
    "target_data # вероятности слов на каждой позиции токена в документах"
   ]
  },
  {
   "cell_type": "markdown",
   "metadata": {},
   "source": [
    "Пример разницы входа у декодера и ожидаемого выхода (argmax по вероятностям слов)."
   ]
  },
  {
   "cell_type": "code",
   "execution_count": 15,
   "metadata": {},
   "outputs": [
    {
     "data": {
      "text/plain": [
       "array([   3,  197, 1134,   60,   56,  256,    2,   78,  238,   38, 1135,\n",
       "       1136,  117,  215, 1137,    5,  113,    2,   16, 1138, 1139,   31,\n",
       "          4,    0,    0,    0,    0,    0,    0,    0,    0,    0,    0,\n",
       "          0,    0,    0,    0,    0,    0])"
      ]
     },
     "execution_count": 15,
     "metadata": {},
     "output_type": "execute_result"
    }
   ],
   "source": [
    "padded_polite[0]"
   ]
  },
  {
   "cell_type": "code",
   "execution_count": 16,
   "metadata": {},
   "outputs": [
    {
     "data": {
      "text/plain": [
       "array([ 197, 1134,   60,   56,  256,    2,   78,  238,   38, 1135, 1136,\n",
       "        117,  215, 1137,    5,  113,    2,   16, 1138, 1139,   31,    4,\n",
       "          0,    0,    0,    0,    0,    0,    0,    0,    0,    0,    0,\n",
       "          0,    0,    0,    0,    0,    0], dtype=int64)"
      ]
     },
     "execution_count": 16,
     "metadata": {},
     "output_type": "execute_result"
    }
   ],
   "source": [
    "np.argmax(target_data[0], axis=1) # пример таргетов (axis=1 - по столбцам, то есть вероятностям слов на позиции токена t)"
   ]
  },
  {
   "cell_type": "markdown",
   "metadata": {},
   "source": [
    "## Эмбеддинги"
   ]
  },
  {
   "cell_type": "markdown",
   "metadata": {},
   "source": [
    "Для получения векторов-эмбеддингов воспользуемся [***Navec***](https://github.com/natasha/navec?tab=readme-ov-file), так как он компактный (легко умещается в память оперативную/физическую), хоть и имеет огромный словарь, и заточен под работу с русским языком. Словарь Navec содержит 500000 слов, представленных в виде векторов размерности 300."
   ]
  },
  {
   "cell_type": "code",
   "execution_count": 17,
   "metadata": {},
   "outputs": [],
   "source": [
    "navec = Navec.load(f\"{EMBEDDING_DIR}navec_hudlit_v1_12B_500K_300d_100q.tar\") # загружаем вектора\n",
    "# navec_hudlit_v1_12B_500K_300d_100q.tar\n",
    "#                  |    |    |    |\n",
    "#                  |    |    |     ---- 100 dimentions after quantization\n",
    "#                  |    |     --------- original vectors have 300 dimentions\n",
    "#                  |     -------------- vocab size is 500 000 words + 2 for <unk>, <pad>\n",
    "#                   ------------------- dataset of 12 billion tokens was used"
   ]
  },
  {
   "cell_type": "code",
   "execution_count": 18,
   "metadata": {},
   "outputs": [
    {
     "data": {
      "text/plain": [
       "array([ 0.22543699, -0.39721358,  0.6805563 ,  0.21706595, -0.19716908,\n",
       "       -0.20722607, -0.07350219,  0.13129961, -0.17141329,  0.09088685,\n",
       "        0.21599719, -0.09282316,  0.00766279, -0.11043157, -0.07346303,\n",
       "        0.42286018, -0.26629096,  0.31371886, -0.08937341,  0.09485467,\n",
       "       -0.04480258, -0.44643393, -0.3061798 , -0.2882515 ,  0.5377174 ,\n",
       "        0.36234093,  0.0030303 ,  0.23453966, -0.28672412, -0.20668298,\n",
       "       -0.19193137,  0.04902396,  0.8125157 ,  0.5318507 , -0.6188356 ,\n",
       "       -0.04572238, -0.02173791, -0.66719943, -0.7230108 , -0.2762196 ,\n",
       "       -0.23562106,  0.5413357 , -0.05294172,  0.6201654 , -0.8374897 ,\n",
       "       -0.36382714,  0.4649254 , -0.13510832,  0.09727751, -0.10602053,\n",
       "        0.37899598, -0.36541265, -0.20060915,  0.10681065, -0.5519943 ,\n",
       "       -0.13753682, -0.01502502,  0.09474958, -0.05980838, -0.02857767,\n",
       "       -0.55855787, -0.04823827, -0.3578416 ,  0.88438463,  0.32023084,\n",
       "       -0.25467572,  0.22748815, -0.6873215 , -0.04857488, -0.7444249 ,\n",
       "       -0.41156083,  0.19128552,  0.07123397, -0.14737812, -0.39385885,\n",
       "       -0.24628565,  0.5453377 , -0.05320076,  0.06201499, -0.04103868,\n",
       "       -0.2932616 ,  0.3779095 , -0.31397003, -0.04615191, -0.43017006,\n",
       "       -0.00623761,  0.61113805,  0.2079509 , -0.05063467,  0.09398386,\n",
       "       -0.41160762,  0.09362367, -0.8432128 , -0.10191941,  0.01678637,\n",
       "        0.6130639 , -0.50620526,  0.06421215,  0.15180896, -1.001532  ,\n",
       "       -0.29364854, -0.1847418 ,  0.05156467, -0.23999164,  0.49402934,\n",
       "        0.34105918, -0.8930306 , -0.09359165,  0.5060184 ,  0.56454605,\n",
       "       -0.21829388,  0.05214137, -0.5776496 ,  0.13659137, -0.3143733 ,\n",
       "        0.12403905,  0.11754724,  0.09411987,  0.27510226, -0.05934107,\n",
       "       -0.39489806, -0.2788272 , -0.03585588,  0.39080086,  0.01645428,\n",
       "        0.00155893, -0.6858619 ,  0.03199653, -0.23169942, -0.57183355,\n",
       "        0.7449328 , -0.2478331 , -0.0656902 , -0.23359276, -0.15860626,\n",
       "        0.46892813,  0.25094634, -0.0038072 ,  0.8120501 , -0.3921491 ,\n",
       "        0.53953594,  0.0864343 ,  0.16530593, -0.34294814, -0.660825  ,\n",
       "        0.17502032,  0.1601436 ,  0.12880398,  0.2447404 , -0.1398195 ,\n",
       "        0.3940808 , -0.20316295,  0.40920585,  0.30853412,  0.24878557,\n",
       "       -0.08787356, -0.00201242, -0.0976093 ,  0.24608812, -0.20107856,\n",
       "       -0.08510465, -0.22498815, -0.24412297,  0.11659407, -0.23810975,\n",
       "        0.7927576 , -0.19332255,  0.35179833,  0.1266067 , -0.22534452,\n",
       "        0.22342923,  0.52875555, -0.13713977,  0.5322976 , -0.01586652,\n",
       "       -0.36773518,  0.18660183, -0.15345146, -0.6563604 ,  0.03934827,\n",
       "       -0.2537932 ,  0.5915523 ,  0.17447926,  0.08440425, -0.14555511,\n",
       "        0.8462292 ,  0.02306626, -0.50092953,  0.02497473,  0.09709087,\n",
       "        0.42852387, -0.12507445, -0.43765643, -0.04486881, -0.9197812 ,\n",
       "        0.15333776,  0.21755728,  0.16034487,  0.10947693,  0.26935494,\n",
       "        0.08937906, -0.32551923,  0.30181772,  0.03085733,  0.32175773,\n",
       "        0.58648676, -0.4552861 , -0.09058901, -0.07721699,  0.13540809,\n",
       "       -0.00645914, -0.24767125, -0.17353976, -0.32662928,  0.55255526,\n",
       "       -0.31210357,  0.71981466, -0.35557505, -0.2027955 ,  0.5551026 ,\n",
       "       -0.30438095, -0.41725138, -0.4683033 ,  0.03520601,  0.67806554,\n",
       "       -0.02468547,  0.33984688,  0.43193454, -0.27096793, -0.02520603,\n",
       "        0.286634  , -0.02133529, -0.55753946,  0.2741532 ,  0.21432668,\n",
       "       -0.4251435 ,  0.3402687 ,  0.3789248 ,  0.38285363, -0.01478797,\n",
       "        0.4644731 ,  0.21247226, -0.6237922 , -0.14217526, -0.36516917,\n",
       "        0.14149092, -0.15003966,  0.07534812, -0.26868176,  0.23520207,\n",
       "       -0.54361004, -0.9098788 , -0.3157734 ,  0.18669239, -0.0962809 ,\n",
       "       -0.37809882,  0.4742351 ,  0.13234845, -0.50550336,  0.17703918,\n",
       "       -0.44975471,  0.19239506,  0.30779085,  0.24575497,  0.5954058 ,\n",
       "        0.45039576, -0.16555037,  0.11469514, -0.0700791 ,  0.00519014,\n",
       "        0.64192   , -0.07611681, -0.04211494, -0.04530421, -0.69490165,\n",
       "       -0.5775567 , -0.34478965, -0.05541408,  0.5040086 ,  0.14443237,\n",
       "       -0.49850866,  0.23184095,  0.10807174, -0.06104805,  0.24632384,\n",
       "        0.4157553 , -0.3786785 , -0.18116818,  0.5042701 ,  0.6235093 ,\n",
       "        0.28725666, -0.41006738, -0.27313936, -0.1506457 , -0.24990621,\n",
       "       -0.3762372 ,  0.15003653, -0.05707216,  0.10502052,  0.30300924],\n",
       "      dtype=float32)"
      ]
     },
     "execution_count": 18,
     "metadata": {},
     "output_type": "execute_result"
    }
   ],
   "source": [
    "navec.get(\"россия\") # пример работы Navec (возвращает np.array типа float32)"
   ]
  },
  {
   "cell_type": "markdown",
   "metadata": {},
   "source": [
    "Заполняем матрицу эмбеддингов векторами, соответствующими словам (или нулями, если слова нет в словаре Navec, они позже будут дообучены в модели)."
   ]
  },
  {
   "cell_type": "code",
   "execution_count": 19,
   "metadata": {},
   "outputs": [
    {
     "name": "stdout",
     "output_type": "stream",
     "text": [
      "Пропущенно 170 слов из 1317.\n"
     ]
    }
   ],
   "source": [
    "embedding_matrix = np.zeros((vocab_size, EMBEDDING_DIM)) # создаём матрицу из нулей под эмбеддинги слов (+1 — для вектора паддинга, что будет идти под индексом 0)\n",
    "\n",
    "skipped_words = [] # список под слова без вектора\n",
    "for i in range(1, vocab_size): # идём по числу слов (токенов), начиная с 1, так как 0 под padding и до vocab_size не включительно (чтобы уместить все слова)\n",
    "    word = id2word[i] # слово, что идёт под номером i в токенизаторе\n",
    "    if navec.get(word) is not None: # если у рассматриваемого слова есть вектор в Navec (иначе вернёт None)\n",
    "        embedding_matrix[i] = navec.get(word) # записываем i-ый вектор в матрицу эмбеддингов\n",
    "    else: # если слова нет в Navec\n",
    "        skipped_words.append(word) # добавляем слово в список пропущенных\n",
    "\n",
    "print(f\"Пропущенно {len(skipped_words)} слов из {vocab_size}.\")"
   ]
  },
  {
   "cell_type": "markdown",
   "metadata": {},
   "source": [
    "# Работа с моделью"
   ]
  },
  {
   "cell_type": "markdown",
   "metadata": {},
   "source": [
    "![seq2seq model](images/seq2seq.png)"
   ]
  },
  {
   "cell_type": "markdown",
   "metadata": {},
   "source": [
    "## Основная структура модели"
   ]
  },
  {
   "cell_type": "code",
   "execution_count": 20,
   "metadata": {},
   "outputs": [
    {
     "data": {
      "text/html": [
       "<pre style=\"white-space:pre;overflow-x:auto;line-height:normal;font-family:Menlo,'DejaVu Sans Mono',consolas,'Courier New',monospace\"><span style=\"font-weight: bold\">Model: \"functional_1\"</span>\n",
       "</pre>\n"
      ],
      "text/plain": [
       "\u001b[1mModel: \"functional_1\"\u001b[0m\n"
      ]
     },
     "metadata": {},
     "output_type": "display_data"
    },
    {
     "data": {
      "text/html": [
       "<pre style=\"white-space:pre;overflow-x:auto;line-height:normal;font-family:Menlo,'DejaVu Sans Mono',consolas,'Courier New',monospace\">┏━━━━━━━━━━━━━━━━━━━━━┳━━━━━━━━━━━━━━━━━━━┳━━━━━━━━━━━━┳━━━━━━━━━━━━━━━━━━━┓\n",
       "┃<span style=\"font-weight: bold\"> Layer (type)        </span>┃<span style=\"font-weight: bold\"> Output Shape      </span>┃<span style=\"font-weight: bold\">    Param # </span>┃<span style=\"font-weight: bold\"> Connected to      </span>┃\n",
       "┡━━━━━━━━━━━━━━━━━━━━━╇━━━━━━━━━━━━━━━━━━━╇━━━━━━━━━━━━╇━━━━━━━━━━━━━━━━━━━┩\n",
       "│ encoder_input       │ (<span style=\"color: #00d7ff; text-decoration-color: #00d7ff\">None</span>, <span style=\"color: #00af00; text-decoration-color: #00af00\">39</span>)        │          <span style=\"color: #00af00; text-decoration-color: #00af00\">0</span> │ -                 │\n",
       "│ (<span style=\"color: #0087ff; text-decoration-color: #0087ff\">InputLayer</span>)        │                   │            │                   │\n",
       "├─────────────────────┼───────────────────┼────────────┼───────────────────┤\n",
       "│ decoder_input       │ (<span style=\"color: #00d7ff; text-decoration-color: #00d7ff\">None</span>, <span style=\"color: #00af00; text-decoration-color: #00af00\">39</span>)        │          <span style=\"color: #00af00; text-decoration-color: #00af00\">0</span> │ -                 │\n",
       "│ (<span style=\"color: #0087ff; text-decoration-color: #0087ff\">InputLayer</span>)        │                   │            │                   │\n",
       "├─────────────────────┼───────────────────┼────────────┼───────────────────┤\n",
       "│ encoder_embedding   │ (<span style=\"color: #00d7ff; text-decoration-color: #00d7ff\">None</span>, <span style=\"color: #00af00; text-decoration-color: #00af00\">39</span>, <span style=\"color: #00af00; text-decoration-color: #00af00\">300</span>)   │    <span style=\"color: #00af00; text-decoration-color: #00af00\">395,100</span> │ encoder_input[<span style=\"color: #00af00; text-decoration-color: #00af00\">0</span>]… │\n",
       "│ (<span style=\"color: #0087ff; text-decoration-color: #0087ff\">Embedding</span>)         │                   │            │                   │\n",
       "├─────────────────────┼───────────────────┼────────────┼───────────────────┤\n",
       "│ decoder_embedding   │ (<span style=\"color: #00d7ff; text-decoration-color: #00d7ff\">None</span>, <span style=\"color: #00af00; text-decoration-color: #00af00\">39</span>, <span style=\"color: #00af00; text-decoration-color: #00af00\">300</span>)   │    <span style=\"color: #00af00; text-decoration-color: #00af00\">395,100</span> │ decoder_input[<span style=\"color: #00af00; text-decoration-color: #00af00\">0</span>]… │\n",
       "│ (<span style=\"color: #0087ff; text-decoration-color: #0087ff\">Embedding</span>)         │                   │            │                   │\n",
       "├─────────────────────┼───────────────────┼────────────┼───────────────────┤\n",
       "│ encoder_lstm (<span style=\"color: #0087ff; text-decoration-color: #0087ff\">LSTM</span>) │ [(<span style=\"color: #00d7ff; text-decoration-color: #00d7ff\">None</span>, <span style=\"color: #00af00; text-decoration-color: #00af00\">256</span>),     │    <span style=\"color: #00af00; text-decoration-color: #00af00\">570,368</span> │ encoder_embeddin… │\n",
       "│                     │ (<span style=\"color: #00d7ff; text-decoration-color: #00d7ff\">None</span>, <span style=\"color: #00af00; text-decoration-color: #00af00\">256</span>),      │            │                   │\n",
       "│                     │ (<span style=\"color: #00d7ff; text-decoration-color: #00d7ff\">None</span>, <span style=\"color: #00af00; text-decoration-color: #00af00\">256</span>)]      │            │                   │\n",
       "├─────────────────────┼───────────────────┼────────────┼───────────────────┤\n",
       "│ decoder_lstm (<span style=\"color: #0087ff; text-decoration-color: #0087ff\">LSTM</span>) │ [(<span style=\"color: #00d7ff; text-decoration-color: #00d7ff\">None</span>, <span style=\"color: #00af00; text-decoration-color: #00af00\">39</span>, <span style=\"color: #00af00; text-decoration-color: #00af00\">256</span>), │    <span style=\"color: #00af00; text-decoration-color: #00af00\">570,368</span> │ decoder_embeddin… │\n",
       "│                     │ (<span style=\"color: #00d7ff; text-decoration-color: #00d7ff\">None</span>, <span style=\"color: #00af00; text-decoration-color: #00af00\">256</span>),      │            │ encoder_lstm[<span style=\"color: #00af00; text-decoration-color: #00af00\">0</span>][<span style=\"color: #00af00; text-decoration-color: #00af00\">…</span> │\n",
       "│                     │ (<span style=\"color: #00d7ff; text-decoration-color: #00d7ff\">None</span>, <span style=\"color: #00af00; text-decoration-color: #00af00\">256</span>)]      │            │ encoder_lstm[<span style=\"color: #00af00; text-decoration-color: #00af00\">0</span>][<span style=\"color: #00af00; text-decoration-color: #00af00\">…</span> │\n",
       "├─────────────────────┼───────────────────┼────────────┼───────────────────┤\n",
       "│ word_probs (<span style=\"color: #0087ff; text-decoration-color: #0087ff\">Dense</span>)  │ (<span style=\"color: #00d7ff; text-decoration-color: #00d7ff\">None</span>, <span style=\"color: #00af00; text-decoration-color: #00af00\">39</span>, <span style=\"color: #00af00; text-decoration-color: #00af00\">1317</span>)  │    <span style=\"color: #00af00; text-decoration-color: #00af00\">338,469</span> │ decoder_lstm[<span style=\"color: #00af00; text-decoration-color: #00af00\">0</span>][<span style=\"color: #00af00; text-decoration-color: #00af00\">…</span> │\n",
       "└─────────────────────┴───────────────────┴────────────┴───────────────────┘\n",
       "</pre>\n"
      ],
      "text/plain": [
       "┏━━━━━━━━━━━━━━━━━━━━━┳━━━━━━━━━━━━━━━━━━━┳━━━━━━━━━━━━┳━━━━━━━━━━━━━━━━━━━┓\n",
       "┃\u001b[1m \u001b[0m\u001b[1mLayer (type)       \u001b[0m\u001b[1m \u001b[0m┃\u001b[1m \u001b[0m\u001b[1mOutput Shape     \u001b[0m\u001b[1m \u001b[0m┃\u001b[1m \u001b[0m\u001b[1m   Param #\u001b[0m\u001b[1m \u001b[0m┃\u001b[1m \u001b[0m\u001b[1mConnected to     \u001b[0m\u001b[1m \u001b[0m┃\n",
       "┡━━━━━━━━━━━━━━━━━━━━━╇━━━━━━━━━━━━━━━━━━━╇━━━━━━━━━━━━╇━━━━━━━━━━━━━━━━━━━┩\n",
       "│ encoder_input       │ (\u001b[38;5;45mNone\u001b[0m, \u001b[38;5;34m39\u001b[0m)        │          \u001b[38;5;34m0\u001b[0m │ -                 │\n",
       "│ (\u001b[38;5;33mInputLayer\u001b[0m)        │                   │            │                   │\n",
       "├─────────────────────┼───────────────────┼────────────┼───────────────────┤\n",
       "│ decoder_input       │ (\u001b[38;5;45mNone\u001b[0m, \u001b[38;5;34m39\u001b[0m)        │          \u001b[38;5;34m0\u001b[0m │ -                 │\n",
       "│ (\u001b[38;5;33mInputLayer\u001b[0m)        │                   │            │                   │\n",
       "├─────────────────────┼───────────────────┼────────────┼───────────────────┤\n",
       "│ encoder_embedding   │ (\u001b[38;5;45mNone\u001b[0m, \u001b[38;5;34m39\u001b[0m, \u001b[38;5;34m300\u001b[0m)   │    \u001b[38;5;34m395,100\u001b[0m │ encoder_input[\u001b[38;5;34m0\u001b[0m]… │\n",
       "│ (\u001b[38;5;33mEmbedding\u001b[0m)         │                   │            │                   │\n",
       "├─────────────────────┼───────────────────┼────────────┼───────────────────┤\n",
       "│ decoder_embedding   │ (\u001b[38;5;45mNone\u001b[0m, \u001b[38;5;34m39\u001b[0m, \u001b[38;5;34m300\u001b[0m)   │    \u001b[38;5;34m395,100\u001b[0m │ decoder_input[\u001b[38;5;34m0\u001b[0m]… │\n",
       "│ (\u001b[38;5;33mEmbedding\u001b[0m)         │                   │            │                   │\n",
       "├─────────────────────┼───────────────────┼────────────┼───────────────────┤\n",
       "│ encoder_lstm (\u001b[38;5;33mLSTM\u001b[0m) │ [(\u001b[38;5;45mNone\u001b[0m, \u001b[38;5;34m256\u001b[0m),     │    \u001b[38;5;34m570,368\u001b[0m │ encoder_embeddin… │\n",
       "│                     │ (\u001b[38;5;45mNone\u001b[0m, \u001b[38;5;34m256\u001b[0m),      │            │                   │\n",
       "│                     │ (\u001b[38;5;45mNone\u001b[0m, \u001b[38;5;34m256\u001b[0m)]      │            │                   │\n",
       "├─────────────────────┼───────────────────┼────────────┼───────────────────┤\n",
       "│ decoder_lstm (\u001b[38;5;33mLSTM\u001b[0m) │ [(\u001b[38;5;45mNone\u001b[0m, \u001b[38;5;34m39\u001b[0m, \u001b[38;5;34m256\u001b[0m), │    \u001b[38;5;34m570,368\u001b[0m │ decoder_embeddin… │\n",
       "│                     │ (\u001b[38;5;45mNone\u001b[0m, \u001b[38;5;34m256\u001b[0m),      │            │ encoder_lstm[\u001b[38;5;34m0\u001b[0m][\u001b[38;5;34m…\u001b[0m │\n",
       "│                     │ (\u001b[38;5;45mNone\u001b[0m, \u001b[38;5;34m256\u001b[0m)]      │            │ encoder_lstm[\u001b[38;5;34m0\u001b[0m][\u001b[38;5;34m…\u001b[0m │\n",
       "├─────────────────────┼───────────────────┼────────────┼───────────────────┤\n",
       "│ word_probs (\u001b[38;5;33mDense\u001b[0m)  │ (\u001b[38;5;45mNone\u001b[0m, \u001b[38;5;34m39\u001b[0m, \u001b[38;5;34m1317\u001b[0m)  │    \u001b[38;5;34m338,469\u001b[0m │ decoder_lstm[\u001b[38;5;34m0\u001b[0m][\u001b[38;5;34m…\u001b[0m │\n",
       "└─────────────────────┴───────────────────┴────────────┴───────────────────┘\n"
      ]
     },
     "metadata": {},
     "output_type": "display_data"
    },
    {
     "data": {
      "text/html": [
       "<pre style=\"white-space:pre;overflow-x:auto;line-height:normal;font-family:Menlo,'DejaVu Sans Mono',consolas,'Courier New',monospace\"><span style=\"font-weight: bold\"> Total params: </span><span style=\"color: #00af00; text-decoration-color: #00af00\">2,269,405</span> (8.66 MB)\n",
       "</pre>\n"
      ],
      "text/plain": [
       "\u001b[1m Total params: \u001b[0m\u001b[38;5;34m2,269,405\u001b[0m (8.66 MB)\n"
      ]
     },
     "metadata": {},
     "output_type": "display_data"
    },
    {
     "data": {
      "text/html": [
       "<pre style=\"white-space:pre;overflow-x:auto;line-height:normal;font-family:Menlo,'DejaVu Sans Mono',consolas,'Courier New',monospace\"><span style=\"font-weight: bold\"> Trainable params: </span><span style=\"color: #00af00; text-decoration-color: #00af00\">2,269,405</span> (8.66 MB)\n",
       "</pre>\n"
      ],
      "text/plain": [
       "\u001b[1m Trainable params: \u001b[0m\u001b[38;5;34m2,269,405\u001b[0m (8.66 MB)\n"
      ]
     },
     "metadata": {},
     "output_type": "display_data"
    },
    {
     "data": {
      "text/html": [
       "<pre style=\"white-space:pre;overflow-x:auto;line-height:normal;font-family:Menlo,'DejaVu Sans Mono',consolas,'Courier New',monospace\"><span style=\"font-weight: bold\"> Non-trainable params: </span><span style=\"color: #00af00; text-decoration-color: #00af00\">0</span> (0.00 B)\n",
       "</pre>\n"
      ],
      "text/plain": [
       "\u001b[1m Non-trainable params: \u001b[0m\u001b[38;5;34m0\u001b[0m (0.00 B)\n"
      ]
     },
     "metadata": {},
     "output_type": "display_data"
    }
   ],
   "source": [
    "# энкодер (на вход идут токсичные сообщения)\n",
    "encoder_input = Input(shape=(MAX_LEN,), dtype=DTYPE, name='encoder_input') # входной слой энкодера, получает вектор размера (BATCH_SIZE, число слов или токенов в входных данных)\n",
    "encoder_embedding = Embedding(input_dim=vocab_size, output_dim=EMBEDDING_DIM, name='encoder_embedding')(encoder_input) # слой эмбеддинга (на вход — encoder_input размера словаря input_dim, выход размерности (BATCH_SIZE, число токенов в документе, размерность вектора-эмбеддинга))\n",
    "encoder_output, encoder_hidden_state, encoder_context = LSTM(units=ENCODING_DIM, return_state=True, name='encoder_lstm')(encoder_embedding) # слой LSTM, return_state — возвращающий помимо выхода слоя, также свой hidden_state и вектор context_а\n",
    "encoder_state = [encoder_hidden_state, encoder_context] # запоминаем hidden_state и вектор context_а энкодера (пойдут как начальное состояние декодера)\n",
    "# РАБОТА С ВЫХОДОМ ЭНКОДЕРА БОЛЬШЕ НЕ ВЕДЁТСЯ, А ТОЛЬКО С ЕГО СОСТОЯНИЕМ ПРИ ВЫХОДЕ\n",
    "\n",
    "# декодер (на вход идут нетоксичные сообщения)\n",
    "decoder_input = Input(shape=(MAX_LEN,), dtype=DTYPE, name='decoder_input') # входной слой декодера, получает вектор размера (BATCH_SIZE, число слов или токенов в выходных данных)\n",
    "decoder_embedding_layer = Embedding(input_dim=vocab_size, output_dim=EMBEDDING_DIM, name='decoder_embedding') # слой эмбеддинга (на вход — decoder_input размера словаря input_dim, выход размерности (BATCH_SIZE, число токенов в документе, размерность вектора-эмбеддинга))\n",
    "decoder_embedding = decoder_embedding_layer(decoder_input) # вызов слоя эмбеддинга\n",
    "decoder_lstm_layer = LSTM(units=ENCODING_DIM, return_sequences=True, return_state=True, name='decoder_lstm') # слой LSTM, return_state — возвращающий помимо выхода слоя, также свой hidden_state и вектор context_а; return_sequences — возвращать лишь последний выход или выходы для всй входной последовательности (True - чтобы предсказывать целую последовательность, иначе было бы лишь одно число)\n",
    "decoder_lstm, _, _ = decoder_lstm_layer(decoder_embedding, initial_state=encoder_state) # вызываем слой LSTM с передачей внутреннего состояния из энкодера\n",
    "decoder_dense = Dense(units=vocab_size, activation=\"softmax\", name='word_probs') # линейный слой с \"softmax\" для получения вероятностей слов (units=vocab_size) на позиции токена t, а так как LSTM возвращает последовательность (return_sequences=True) - выходом будет трёхмерная матрица (BATCH_SIZE, число токенов в документе, размер словаря)\n",
    "decoder_output = decoder_dense(decoder_lstm) # вызываем линейный слой\n",
    "\n",
    "# общая модель\n",
    "model = Model(inputs=[encoder_input, decoder_input], outputs=decoder_output) # финальное объединение в одну модель\n",
    "\n",
    "model.summary() # вывод данных о модели"
   ]
  },
  {
   "cell_type": "markdown",
   "metadata": {},
   "source": [
    "Устанавливаем специфичные веса и параметры обучения для слоя эмбеддинга."
   ]
  },
  {
   "cell_type": "code",
   "execution_count": 21,
   "metadata": {},
   "outputs": [
    {
     "data": {
      "text/plain": [
       "[<InputLayer name=encoder_input, built=True>,\n",
       " <InputLayer name=decoder_input, built=True>,\n",
       " <Embedding name=encoder_embedding, built=True>,\n",
       " <Embedding name=decoder_embedding, built=True>,\n",
       " <LSTM name=encoder_lstm, built=True>,\n",
       " <LSTM name=decoder_lstm, built=True>,\n",
       " <Dense name=word_probs, built=True>]"
      ]
     },
     "execution_count": 21,
     "metadata": {},
     "output_type": "execute_result"
    }
   ],
   "source": [
    "model.layers"
   ]
  },
  {
   "cell_type": "code",
   "execution_count": 22,
   "metadata": {},
   "outputs": [],
   "source": [
    "model.layers[2].set_weights([embedding_matrix]) # устанавливаем вектора эмбеддингов\n",
    "# model.layers[2].trainable = False # ставим флаг, что слой не будет обучаться\n",
    "model.layers[3].set_weights([embedding_matrix]) # устанавливаем вектора эмбеддингов\n",
    "# model.layers[3].trainable = False # ставим флаг, что слой не будет обучаться"
   ]
  },
  {
   "cell_type": "markdown",
   "metadata": {},
   "source": [
    "## Callback функции"
   ]
  },
  {
   "cell_type": "code",
   "execution_count": 23,
   "metadata": {},
   "outputs": [],
   "source": [
    "def get_early_stopping():\n",
    "    \"\"\"\n",
    "    This function should return an EarlyStopping callback that stops learning when the\n",
    "    validation (testing) accuracy has not improved over the last N epochs.\n",
    "    \"\"\"\n",
    "    early_stopping = EarlyStopping(monitor=\"loss\", mode=\"min\", patience=EPOCHS_PATIENCE) # callback ранней остановки обучения\n",
    "    # monitor — по какой метрике судить, нужно ли прекращать обучение, например - val_loss\n",
    "    # mode — метрика должна увеличиваться (max) или уменьшаться (min)\n",
    "    # patience — сколько должно пройти эпох без улучшения отслеживаемой метрики чтобы прекратить обучение\n",
    "    return early_stopping\n",
    "\n",
    "\n",
    "def get_checkpoint_best_only():\n",
    "    \"\"\"\n",
    "    This function should return a ModelCheckpoint object that:\n",
    "    - stores only those weights of the neural network that generate the highest accuracy during testing\n",
    "    - saves to the 'checkpoints_best_only' directory inside the current working directory\n",
    "    - generates a file named '{MODELS_DIR}best_model.keras'\n",
    "    \"\"\"\n",
    "    checkpoint_best = ModelCheckpoint(filepath=f\"{MODELS_DIR}best_model.keras\", save_best_only=True, save_weights_only=False, monitor=\"loss\", mode=\"min\") # callback сохранения чекпоинтов модели\n",
    "    # filepath — путь до файла, куда сохранять (можно с указанием эпохи...)\n",
    "    # save_best_only — сохранять только если результат (отслеживаемая метрика) улучшилась\n",
    "    # save_weights_only — сохранять ли только веса\n",
    "    # monitor — по какой метрике судить, стала ли модель лучше/хуже\n",
    "    # mode — метрика должна увеличиваться (max) или уменьшаться (min)\n",
    "    return checkpoint_best"
   ]
  },
  {
   "cell_type": "markdown",
   "metadata": {},
   "source": [
    "## Сборка модели с обучением"
   ]
  },
  {
   "cell_type": "markdown",
   "metadata": {},
   "source": [
    "**Переобучение для моделей генерации и перевода (детоксикации) текста на самом деле положительно сказывается на её ответах.**"
   ]
  },
  {
   "cell_type": "code",
   "execution_count": 24,
   "metadata": {},
   "outputs": [],
   "source": [
    "model.compile(optimizer=\"rmsprop\", loss=\"categorical_crossentropy\", metrics=None) # компилирование модели с указанием оптимизатора, функции потерь и дополнительных метрик"
   ]
  },
  {
   "cell_type": "code",
   "execution_count": 25,
   "metadata": {},
   "outputs": [],
   "source": [
    "callback_checkpoint = get_checkpoint_best_only() # callback сохранения чекпоинтов\n",
    "callback_stopping = get_early_stopping() # callback ранней остановки обучения\n",
    "\n",
    "callbacks = [callback_checkpoint, callback_stopping] # список callback_ов"
   ]
  },
  {
   "cell_type": "code",
   "execution_count": 26,
   "metadata": {},
   "outputs": [
    {
     "name": "stdout",
     "output_type": "stream",
     "text": [
      "Epoch 1/500\n",
      "\u001b[1m20/20\u001b[0m \u001b[32m━━━━━━━━━━━━━━━━━━━━\u001b[0m\u001b[37m\u001b[0m \u001b[1m7s\u001b[0m 146ms/step - loss: 2.2784\n",
      "Epoch 2/500\n",
      "\u001b[1m20/20\u001b[0m \u001b[32m━━━━━━━━━━━━━━━━━━━━\u001b[0m\u001b[37m\u001b[0m \u001b[1m3s\u001b[0m 151ms/step - loss: 1.9085\n",
      "Epoch 3/500\n",
      "\u001b[1m20/20\u001b[0m \u001b[32m━━━━━━━━━━━━━━━━━━━━\u001b[0m\u001b[37m\u001b[0m \u001b[1m3s\u001b[0m 156ms/step - loss: 1.8917\n",
      "Epoch 4/500\n",
      "\u001b[1m20/20\u001b[0m \u001b[32m━━━━━━━━━━━━━━━━━━━━\u001b[0m\u001b[37m\u001b[0m \u001b[1m3s\u001b[0m 141ms/step - loss: 1.9180\n",
      "Epoch 5/500\n",
      "\u001b[1m20/20\u001b[0m \u001b[32m━━━━━━━━━━━━━━━━━━━━\u001b[0m\u001b[37m\u001b[0m \u001b[1m2s\u001b[0m 123ms/step - loss: 1.8411\n",
      "Epoch 6/500\n",
      "\u001b[1m20/20\u001b[0m \u001b[32m━━━━━━━━━━━━━━━━━━━━\u001b[0m\u001b[37m\u001b[0m \u001b[1m3s\u001b[0m 129ms/step - loss: 1.8438\n",
      "Epoch 7/500\n",
      "\u001b[1m20/20\u001b[0m \u001b[32m━━━━━━━━━━━━━━━━━━━━\u001b[0m\u001b[37m\u001b[0m \u001b[1m3s\u001b[0m 124ms/step - loss: 1.8422\n",
      "Epoch 8/500\n",
      "\u001b[1m20/20\u001b[0m \u001b[32m━━━━━━━━━━━━━━━━━━━━\u001b[0m\u001b[37m\u001b[0m \u001b[1m3s\u001b[0m 132ms/step - loss: 1.7609\n",
      "Epoch 9/500\n",
      "\u001b[1m20/20\u001b[0m \u001b[32m━━━━━━━━━━━━━━━━━━━━\u001b[0m\u001b[37m\u001b[0m \u001b[1m3s\u001b[0m 145ms/step - loss: 1.8794\n",
      "Epoch 10/500\n",
      "\u001b[1m20/20\u001b[0m \u001b[32m━━━━━━━━━━━━━━━━━━━━\u001b[0m\u001b[37m\u001b[0m \u001b[1m3s\u001b[0m 127ms/step - loss: 1.8332\n",
      "Epoch 11/500\n",
      "\u001b[1m20/20\u001b[0m \u001b[32m━━━━━━━━━━━━━━━━━━━━\u001b[0m\u001b[37m\u001b[0m \u001b[1m3s\u001b[0m 131ms/step - loss: 1.8401\n",
      "Epoch 12/500\n",
      "\u001b[1m20/20\u001b[0m \u001b[32m━━━━━━━━━━━━━━━━━━━━\u001b[0m\u001b[37m\u001b[0m \u001b[1m3s\u001b[0m 135ms/step - loss: 1.7747\n",
      "Epoch 13/500\n",
      "\u001b[1m20/20\u001b[0m \u001b[32m━━━━━━━━━━━━━━━━━━━━\u001b[0m\u001b[37m\u001b[0m \u001b[1m3s\u001b[0m 164ms/step - loss: 1.8128\n",
      "Epoch 14/500\n",
      "\u001b[1m20/20\u001b[0m \u001b[32m━━━━━━━━━━━━━━━━━━━━\u001b[0m\u001b[37m\u001b[0m \u001b[1m3s\u001b[0m 156ms/step - loss: 1.7362\n",
      "Epoch 15/500\n",
      "\u001b[1m20/20\u001b[0m \u001b[32m━━━━━━━━━━━━━━━━━━━━\u001b[0m\u001b[37m\u001b[0m \u001b[1m3s\u001b[0m 157ms/step - loss: 1.6574\n",
      "Epoch 16/500\n",
      "\u001b[1m20/20\u001b[0m \u001b[32m━━━━━━━━━━━━━━━━━━━━\u001b[0m\u001b[37m\u001b[0m \u001b[1m3s\u001b[0m 149ms/step - loss: 1.7259\n",
      "Epoch 17/500\n",
      "\u001b[1m20/20\u001b[0m \u001b[32m━━━━━━━━━━━━━━━━━━━━\u001b[0m\u001b[37m\u001b[0m \u001b[1m3s\u001b[0m 148ms/step - loss: 1.6439\n",
      "Epoch 18/500\n",
      "\u001b[1m20/20\u001b[0m \u001b[32m━━━━━━━━━━━━━━━━━━━━\u001b[0m\u001b[37m\u001b[0m \u001b[1m3s\u001b[0m 140ms/step - loss: 1.6828\n",
      "Epoch 19/500\n",
      "\u001b[1m20/20\u001b[0m \u001b[32m━━━━━━━━━━━━━━━━━━━━\u001b[0m\u001b[37m\u001b[0m \u001b[1m3s\u001b[0m 139ms/step - loss: 1.6463\n",
      "Epoch 20/500\n",
      "\u001b[1m20/20\u001b[0m \u001b[32m━━━━━━━━━━━━━━━━━━━━\u001b[0m\u001b[37m\u001b[0m \u001b[1m3s\u001b[0m 149ms/step - loss: 1.7046\n",
      "Epoch 21/500\n",
      "\u001b[1m20/20\u001b[0m \u001b[32m━━━━━━━━━━━━━━━━━━━━\u001b[0m\u001b[37m\u001b[0m \u001b[1m3s\u001b[0m 136ms/step - loss: 1.7540\n",
      "Epoch 22/500\n",
      "\u001b[1m20/20\u001b[0m \u001b[32m━━━━━━━━━━━━━━━━━━━━\u001b[0m\u001b[37m\u001b[0m \u001b[1m2s\u001b[0m 123ms/step - loss: 1.7245\n",
      "Epoch 23/500\n",
      "\u001b[1m20/20\u001b[0m \u001b[32m━━━━━━━━━━━━━━━━━━━━\u001b[0m\u001b[37m\u001b[0m \u001b[1m2s\u001b[0m 121ms/step - loss: 1.7616\n",
      "Epoch 24/500\n",
      "\u001b[1m20/20\u001b[0m \u001b[32m━━━━━━━━━━━━━━━━━━━━\u001b[0m\u001b[37m\u001b[0m \u001b[1m2s\u001b[0m 121ms/step - loss: 1.6856\n",
      "Epoch 25/500\n",
      "\u001b[1m20/20\u001b[0m \u001b[32m━━━━━━━━━━━━━━━━━━━━\u001b[0m\u001b[37m\u001b[0m \u001b[1m3s\u001b[0m 130ms/step - loss: 1.7477\n",
      "Epoch 26/500\n",
      "\u001b[1m20/20\u001b[0m \u001b[32m━━━━━━━━━━━━━━━━━━━━\u001b[0m\u001b[37m\u001b[0m \u001b[1m2s\u001b[0m 122ms/step - loss: 1.6920\n",
      "Epoch 27/500\n",
      "\u001b[1m20/20\u001b[0m \u001b[32m━━━━━━━━━━━━━━━━━━━━\u001b[0m\u001b[37m\u001b[0m \u001b[1m3s\u001b[0m 125ms/step - loss: 1.6990\n",
      "Epoch 28/500\n",
      "\u001b[1m20/20\u001b[0m \u001b[32m━━━━━━━━━━━━━━━━━━━━\u001b[0m\u001b[37m\u001b[0m \u001b[1m3s\u001b[0m 138ms/step - loss: 1.6644\n",
      "Epoch 29/500\n",
      "\u001b[1m20/20\u001b[0m \u001b[32m━━━━━━━━━━━━━━━━━━━━\u001b[0m\u001b[37m\u001b[0m \u001b[1m3s\u001b[0m 139ms/step - loss: 1.5603\n",
      "Epoch 30/500\n",
      "\u001b[1m20/20\u001b[0m \u001b[32m━━━━━━━━━━━━━━━━━━━━\u001b[0m\u001b[37m\u001b[0m \u001b[1m2s\u001b[0m 121ms/step - loss: 1.6392\n",
      "Epoch 31/500\n",
      "\u001b[1m20/20\u001b[0m \u001b[32m━━━━━━━━━━━━━━━━━━━━\u001b[0m\u001b[37m\u001b[0m \u001b[1m3s\u001b[0m 128ms/step - loss: 1.6214\n",
      "Epoch 32/500\n",
      "\u001b[1m20/20\u001b[0m \u001b[32m━━━━━━━━━━━━━━━━━━━━\u001b[0m\u001b[37m\u001b[0m \u001b[1m2s\u001b[0m 121ms/step - loss: 1.5595\n",
      "Epoch 33/500\n",
      "\u001b[1m20/20\u001b[0m \u001b[32m━━━━━━━━━━━━━━━━━━━━\u001b[0m\u001b[37m\u001b[0m \u001b[1m3s\u001b[0m 125ms/step - loss: 1.6535\n",
      "Epoch 34/500\n",
      "\u001b[1m20/20\u001b[0m \u001b[32m━━━━━━━━━━━━━━━━━━━━\u001b[0m\u001b[37m\u001b[0m \u001b[1m3s\u001b[0m 157ms/step - loss: 1.6515\n",
      "Epoch 35/500\n",
      "\u001b[1m20/20\u001b[0m \u001b[32m━━━━━━━━━━━━━━━━━━━━\u001b[0m\u001b[37m\u001b[0m \u001b[1m3s\u001b[0m 126ms/step - loss: 1.6982\n",
      "Epoch 36/500\n",
      "\u001b[1m20/20\u001b[0m \u001b[32m━━━━━━━━━━━━━━━━━━━━\u001b[0m\u001b[37m\u001b[0m \u001b[1m3s\u001b[0m 129ms/step - loss: 1.6358\n",
      "Epoch 37/500\n",
      "\u001b[1m20/20\u001b[0m \u001b[32m━━━━━━━━━━━━━━━━━━━━\u001b[0m\u001b[37m\u001b[0m \u001b[1m3s\u001b[0m 134ms/step - loss: 1.5650\n",
      "Epoch 38/500\n",
      "\u001b[1m20/20\u001b[0m \u001b[32m━━━━━━━━━━━━━━━━━━━━\u001b[0m\u001b[37m\u001b[0m \u001b[1m3s\u001b[0m 128ms/step - loss: 1.5894\n",
      "Epoch 39/500\n",
      "\u001b[1m20/20\u001b[0m \u001b[32m━━━━━━━━━━━━━━━━━━━━\u001b[0m\u001b[37m\u001b[0m \u001b[1m3s\u001b[0m 170ms/step - loss: 1.6248\n",
      "Epoch 40/500\n",
      "\u001b[1m20/20\u001b[0m \u001b[32m━━━━━━━━━━━━━━━━━━━━\u001b[0m\u001b[37m\u001b[0m \u001b[1m3s\u001b[0m 137ms/step - loss: 1.5394\n",
      "Epoch 41/500\n",
      "\u001b[1m20/20\u001b[0m \u001b[32m━━━━━━━━━━━━━━━━━━━━\u001b[0m\u001b[37m\u001b[0m \u001b[1m3s\u001b[0m 125ms/step - loss: 1.5527\n",
      "Epoch 42/500\n",
      "\u001b[1m20/20\u001b[0m \u001b[32m━━━━━━━━━━━━━━━━━━━━\u001b[0m\u001b[37m\u001b[0m \u001b[1m3s\u001b[0m 132ms/step - loss: 1.6000\n",
      "Epoch 43/500\n",
      "\u001b[1m20/20\u001b[0m \u001b[32m━━━━━━━━━━━━━━━━━━━━\u001b[0m\u001b[37m\u001b[0m \u001b[1m3s\u001b[0m 127ms/step - loss: 1.7007\n",
      "Epoch 44/500\n",
      "\u001b[1m20/20\u001b[0m \u001b[32m━━━━━━━━━━━━━━━━━━━━\u001b[0m\u001b[37m\u001b[0m \u001b[1m3s\u001b[0m 140ms/step - loss: 1.4884\n",
      "Epoch 45/500\n",
      "\u001b[1m20/20\u001b[0m \u001b[32m━━━━━━━━━━━━━━━━━━━━\u001b[0m\u001b[37m\u001b[0m \u001b[1m3s\u001b[0m 143ms/step - loss: 1.6450\n",
      "Epoch 46/500\n",
      "\u001b[1m20/20\u001b[0m \u001b[32m━━━━━━━━━━━━━━━━━━━━\u001b[0m\u001b[37m\u001b[0m \u001b[1m3s\u001b[0m 125ms/step - loss: 1.5374\n",
      "Epoch 47/500\n",
      "\u001b[1m20/20\u001b[0m \u001b[32m━━━━━━━━━━━━━━━━━━━━\u001b[0m\u001b[37m\u001b[0m \u001b[1m3s\u001b[0m 134ms/step - loss: 1.5058\n",
      "Epoch 48/500\n",
      "\u001b[1m20/20\u001b[0m \u001b[32m━━━━━━━━━━━━━━━━━━━━\u001b[0m\u001b[37m\u001b[0m \u001b[1m3s\u001b[0m 130ms/step - loss: 1.5558\n",
      "Epoch 49/500\n",
      "\u001b[1m20/20\u001b[0m \u001b[32m━━━━━━━━━━━━━━━━━━━━\u001b[0m\u001b[37m\u001b[0m \u001b[1m3s\u001b[0m 127ms/step - loss: 1.5464\n",
      "Epoch 50/500\n",
      "\u001b[1m20/20\u001b[0m \u001b[32m━━━━━━━━━━━━━━━━━━━━\u001b[0m\u001b[37m\u001b[0m \u001b[1m3s\u001b[0m 133ms/step - loss: 1.5547\n",
      "Epoch 51/500\n",
      "\u001b[1m20/20\u001b[0m \u001b[32m━━━━━━━━━━━━━━━━━━━━\u001b[0m\u001b[37m\u001b[0m \u001b[1m3s\u001b[0m 137ms/step - loss: 1.4997\n",
      "Epoch 52/500\n",
      "\u001b[1m20/20\u001b[0m \u001b[32m━━━━━━━━━━━━━━━━━━━━\u001b[0m\u001b[37m\u001b[0m \u001b[1m3s\u001b[0m 170ms/step - loss: 1.4629\n",
      "Epoch 53/500\n",
      "\u001b[1m20/20\u001b[0m \u001b[32m━━━━━━━━━━━━━━━━━━━━\u001b[0m\u001b[37m\u001b[0m \u001b[1m3s\u001b[0m 141ms/step - loss: 1.5251\n",
      "Epoch 54/500\n",
      "\u001b[1m20/20\u001b[0m \u001b[32m━━━━━━━━━━━━━━━━━━━━\u001b[0m\u001b[37m\u001b[0m \u001b[1m3s\u001b[0m 150ms/step - loss: 1.5639\n",
      "Epoch 55/500\n",
      "\u001b[1m19/20\u001b[0m \u001b[32m━━━━━━━━━━━━━━━━━━━\u001b[0m\u001b[37m━\u001b[0m \u001b[1m0s\u001b[0m 136ms/step - loss: 1.5940"
     ]
    }
   ],
   "source": [
    "time_start = time.time() # замеряем время начала обучения\n",
    "\n",
    "history = model.fit(x=[padded_toxic, padded_polite], y=target_data, validation_data=None, validation_split=0, epochs=EPOCHS, batch_size=BATCH_SIZE, callbacks=callbacks, verbose=1) # запускаем обучение модели (результатом которого будет история изменения метрик)\n",
    "# x — вход модели (а данном случае — двойной)\n",
    "# y — таргеты\n",
    "# epochs — число эпох обучения\n",
    "# batch_size — размер батчка\n",
    "# validation_data — тестовые данные (тестовый двойной вход и его таргеты)\n",
    "# validation_split — если validation_data=None, то validation_split определяет, какой процент данных будет использован для валидации (на нём не будет обучения), например 0.2\n",
    "# callbacks — список callback функций\n",
    "# verbose — на сколько подробно выводить информацию об обучении (1 - на каждой эпохе)\n",
    "\n",
    "print(f\"Время, затраченное на обучение: {time.time()  - time_start} секунд.\")"
   ]
  },
  {
   "cell_type": "code",
   "execution_count": null,
   "metadata": {},
   "outputs": [
    {
     "name": "stdout",
     "output_type": "stream",
     "text": [
      "dict_keys(['loss'])\n"
     ]
    }
   ],
   "source": [
    "history_dict = history.history # словарь с историей обучения\n",
    "print(history_dict.keys()) # ключи в словаре истории"
   ]
  },
  {
   "cell_type": "code",
   "execution_count": null,
   "metadata": {},
   "outputs": [
    {
     "data": {
      "image/png": "[encoded data removed]",
      "text/plain": [
       "<Figure size 720x432 with 1 Axes>"
      ]
     },
     "metadata": {
      "needs_background": "light"
     },
     "output_type": "display_data"
    }
   ],
   "source": [
    "plt.figure(figsize=(10,6)) # задание размера графика\n",
    "epochs = range(1, len(history_dict['loss']) + 1) # число эпох обучения (сколько было сохранено значений loss)\n",
    "plt.plot(epochs, history_dict[\"loss\"], 'b', label='Training loss') # построение линейного графика ('b' — синего цвета)\n",
    "plt.title(\"Изменение значения loss функции в зависимости от эпохи обучения\") # название фигуры\n",
    "plt.xlabel('Эпоха') # подпись по оси OX\n",
    "plt.ylabel('loss') # подпись по оси OY\n",
    "plt.legend() # вывод подписей для графиков\n",
    "plt.show() # показ фигуры"
   ]
  },
  {
   "cell_type": "code",
   "execution_count": null,
   "metadata": {},
   "outputs": [],
   "source": [
    "model.save(f\"{MODELS_DIR}final_model.keras\") # сохранение модели"
   ]
  },
  {
   "cell_type": "markdown",
   "metadata": {},
   "source": [
    "# Inference"
   ]
  },
  {
   "cell_type": "markdown",
   "metadata": {},
   "source": [
    "Загружаем сохранённую модель."
   ]
  },
  {
   "cell_type": "code",
   "execution_count": null,
   "metadata": {},
   "outputs": [
    {
     "data": {
      "text/plain": [
       "[<InputLayer name=encoder_input, built=True>,\n",
       " <InputLayer name=decoder_input, built=True>,\n",
       " <Embedding name=encoder_embedding, built=True>,\n",
       " <Embedding name=decoder_embedding, built=True>,\n",
       " <LSTM name=encoder_lstm, built=True>,\n",
       " <LSTM name=decoder_lstm, built=True>,\n",
       " <Dense name=word_probs, built=True>]"
      ]
     },
     "execution_count": 74,
     "metadata": {},
     "output_type": "execute_result"
    }
   ],
   "source": [
    "model = keras.models.load_model(f\"{MODELS_DIR}best_model.keras\") # загружаем сохранённую модель\n",
    "model.layers"
   ]
  },
  {
   "cell_type": "markdown",
   "metadata": {},
   "source": [
    "Так как мы грузим модель извне, то нужно описать входы, выходы и промежуточный вектор."
   ]
  },
  {
   "cell_type": "markdown",
   "metadata": {},
   "source": [
    "### Энкодер"
   ]
  },
  {
   "cell_type": "code",
   "execution_count": null,
   "metadata": {},
   "outputs": [],
   "source": [
    "encoder_input = model.input[0] # вход энкодера\n",
    "\n",
    "#=================================== v1 ========================================\n",
    "# encoder_output, *encoder_state = model.layers[4].output # выход энкодера (из LSTM), hidden_state и context сразу записываем в encoder_state\n",
    "#----------------------------------- v2 ----------------------------------------\n",
    "encoder_embedding = model.layers[2](encoder_input) # вызываем слой эмбеддинга энкодера\n",
    "encoder_output, *encoder_state = model.layers[4](encoder_embedding) # вызываем слой LSTM энкодера, hidden_state и context сразу записываем в encoder_state\n",
    "#===============================================================================\n",
    "\n",
    "encoder_model = Model(inputs=encoder_input, outputs=encoder_state) # модель энкодера"
   ]
  },
  {
   "cell_type": "code",
   "execution_count": null,
   "metadata": {},
   "outputs": [
    {
     "data": {
      "text/plain": [
       "[<InputLayer name=encoder_input, built=True>,\n",
       " <Embedding name=encoder_embedding, built=True>,\n",
       " <LSTM name=encoder_lstm, built=True>]"
      ]
     },
     "execution_count": 76,
     "metadata": {},
     "output_type": "execute_result"
    }
   ],
   "source": [
    "encoder_model.layers # получили обратно все слои"
   ]
  },
  {
   "cell_type": "markdown",
   "metadata": {},
   "source": [
    "### Декодер"
   ]
  },
  {
   "cell_type": "code",
   "execution_count": null,
   "metadata": {},
   "outputs": [],
   "source": [
    "decoder_input = model.input[1] # вход декодера\n",
    "\n",
    "decoder_hidden_state = Input(shape=(ENCODING_DIM,), name='decoder_hidden_state') # hidden_state декодера идёт сначала пустым\n",
    "decoder_context = Input(shape=(ENCODING_DIM,), name='decoder_context') # context вектор декодера идёт сначала пустым\n",
    "decoder_state_input = [decoder_hidden_state, decoder_context] # запоминаем hidden_state и вектор context_а декодера (пойдут как начальное состояние)\n",
    "\n",
    "# decoder_embedding = decoder_embedding_layer(decoder_input) # вызываем слой эмбеддинга декодера\n",
    "decoder_embedding = model.layers[3](decoder_input) # вызываем слой эмбеддинга декодера\n",
    "\n",
    "# decoder_lstm, *decoder_state = decoder_lstm_layer(decoder_embedding, initial_state=decoder_state_input) # вызываем слой LSTM декодера, hidden_state и context сразу записываем в encoder_state\n",
    "decoder_lstm, *decoder_state = model.layers[5](decoder_embedding, initial_state=decoder_state_input) # вызываем слой LSTM декодера, hidden_state и context сразу записываем в encoder_state\n",
    "\n",
    "# decodet_output = decoder_dense(decoder_lstm) # вызываем линейный слой для получения вероятностей слов\n",
    "decodet_output = model.layers[6](decoder_lstm) # вызываем линейный слой для получения вероятностей слов\n",
    "\n",
    "decoder_model = Model(inputs=[decoder_input] + decoder_state_input, outputs=[decodet_output] + decoder_state) # модель декодера с нексолькими данными на вход (токены и state) и выход (вероятности слов на позициях и state)"
   ]
  },
  {
   "cell_type": "code",
   "execution_count": null,
   "metadata": {},
   "outputs": [
    {
     "data": {
      "text/plain": [
       "[<InputLayer name=decoder_input, built=True>,\n",
       " <Embedding name=decoder_embedding, built=True>,\n",
       " <InputLayer name=decoder_hidden_state, built=True>,\n",
       " <InputLayer name=decoder_context, built=True>,\n",
       " <LSTM name=decoder_lstm, built=True>,\n",
       " <Dense name=word_probs, built=True>]"
      ]
     },
     "execution_count": 78,
     "metadata": {},
     "output_type": "execute_result"
    }
   ],
   "source": [
    "decoder_model.layers # получили обратно все слои"
   ]
  },
  {
   "cell_type": "markdown",
   "metadata": {},
   "source": [
    "## Детоксикация текста"
   ]
  },
  {
   "cell_type": "code",
   "execution_count": null,
   "metadata": {},
   "outputs": [],
   "source": [
    "# процедура декодирования последовательности\n",
    "def decode_sequence(input_seq) -> str:\n",
    "    \"\"\"\n",
    "    Функция для конвертированя вероятностей токенов на каждой позиции в слова.\\n\n",
    "    Parameters:\n",
    "        * input_seq: входная последовательность для энкодера (список токенов)\\n\n",
    "    Returns:\n",
    "        * str: декодированная строка\n",
    "    \"\"\"\n",
    "    state = encoder_model.predict(input_seq) # делаем предсказание по токенам при помощи энкодера и получаем на выходе его state\n",
    "\n",
    "    # создаём \"вектор\" таргетов, что пойдёт на вход декодеру, начинается с токена <start> (будет передаваться в модель, пока не сгенерируется токен окончания предсказания)\n",
    "    target_seq = np.zeros((1, 1)) # создадим пустой вектор, который будет содержать нашу предсказанную последовательнось, размерности (BATCH_SIZE=1, токены таргета)\n",
    "    target_seq[0, 0] = word2id[\"<start>\"] # первый символ target последовательности будет токен \"<start>\"\n",
    "\n",
    "    # проводим процедуру генерации токенов\n",
    "    stop_condition = False # ключ для выхода генерации перевода\n",
    "    decoded_sentence = \"\" # строка получившегося перевода\n",
    "    decoded_counter = 0 # счётчик числа декодированных токенов\n",
    "    while not stop_condition: # пока не выполнено условие прекращения генерации\n",
    "        # генерируем текущий токен на основе пока пустой target последовательности (в ней только токен <start>) и state из энкодера\n",
    "        # процес повторяется, шаг за шагом, в ходе итерауий модель генерируем последовальность токенов\n",
    "        output_tokens, *state = decoder_model.predict([target_seq] + state) # декодируем последовательность с учётом внутреннего состояния\n",
    "\n",
    "        pred_token = np.argmax(output_tokens[0, -1, :]) # определяем id самого вероятного токена (0 — так как BATCH_SIZE=1 при инференсе, -1 — токен на последней сгенерированной позиции, : — среди всех вероятности слов)        \n",
    "        pred_word = id2word[pred_token] # определяем слово на основе его id (токена)\n",
    "        target_seq[0, 0] = pred_token # обновляем target последовательность за счет нового токена для следующего шага\n",
    "\n",
    "        if pred_word in [\"<end>\", \"<pad>\"] or decoded_counter >= MAX_LEN: # условие остановки — достижение максимальной длины (числа токенов), либо найдены токены <end> или <pad>\n",
    "            stop_condition = True # меняем флаг прекращения генерации токенов\n",
    "        else:\n",
    "            decoded_sentence += f\" {pred_word}\" # добавляем слово в конец полученной декодируемой строки с пробелом\n",
    "            decoded_counter += 1 # обновляем счётчик декодированных токенов в последовательности\n",
    "\n",
    "    decoded_sentence = re.sub(r'\\s+(?=(?:[,.?!:;…]))', r'', decoded_sentence) # удаляем пробелы перед знаками препинания\n",
    "    return decoded_sentence.strip() # возвращаем строку без пробелов"
   ]
  },
  {
   "cell_type": "code",
   "execution_count": null,
   "metadata": {},
   "outputs": [
    {
     "name": "stdout",
     "output_type": "stream",
     "text": [
      "Токсичный текст: Ты долбоёб, сначала про тему почитай, а только высерай свои буквы!\n",
      "\u001b[1m1/1\u001b[0m \u001b[32m━━━━━━━━━━━━━━━━━━━━\u001b[0m\u001b[37m\u001b[0m \u001b[1m0s\u001b[0m 34ms/step\n",
      "\u001b[1m1/1\u001b[0m \u001b[32m━━━━━━━━━━━━━━━━━━━━\u001b[0m\u001b[37m\u001b[0m \u001b[1m0s\u001b[0m 32ms/step\n",
      "\u001b[1m1/1\u001b[0m \u001b[32m━━━━━━━━━━━━━━━━━━━━\u001b[0m\u001b[37m\u001b[0m \u001b[1m0s\u001b[0m 38ms/step\n",
      "\u001b[1m1/1\u001b[0m \u001b[32m━━━━━━━━━━━━━━━━━━━━\u001b[0m\u001b[37m\u001b[0m \u001b[1m0s\u001b[0m 33ms/step\n",
      "\u001b[1m1/1\u001b[0m \u001b[32m━━━━━━━━━━━━━━━━━━━━\u001b[0m\u001b[37m\u001b[0m \u001b[1m0s\u001b[0m 36ms/step\n",
      "\u001b[1m1/1\u001b[0m \u001b[32m━━━━━━━━━━━━━━━━━━━━\u001b[0m\u001b[37m\u001b[0m \u001b[1m0s\u001b[0m 38ms/step\n",
      "\u001b[1m1/1\u001b[0m \u001b[32m━━━━━━━━━━━━━━━━━━━━\u001b[0m\u001b[37m\u001b[0m \u001b[1m0s\u001b[0m 45ms/step\n",
      "\u001b[1m1/1\u001b[0m \u001b[32m━━━━━━━━━━━━━━━━━━━━\u001b[0m\u001b[37m\u001b[0m \u001b[1m0s\u001b[0m 33ms/step\n",
      "\u001b[1m1/1\u001b[0m \u001b[32m━━━━━━━━━━━━━━━━━━━━\u001b[0m\u001b[37m\u001b[0m \u001b[1m0s\u001b[0m 33ms/step\n",
      "\u001b[1m1/1\u001b[0m \u001b[32m━━━━━━━━━━━━━━━━━━━━\u001b[0m\u001b[37m\u001b[0m \u001b[1m0s\u001b[0m 44ms/step\n",
      "Обработанный текст: вы просто не умеете читать между строк.\n"
     ]
    }
   ],
   "source": [
    "text = \"Ты долбоёб, сначала про тему почитай, а только потом пробуй писать!\" # приходящий текст\n",
    "print(f\"Токсичный текст: {text}\")\n",
    "\n",
    "sequence = word_tokenize(text) # разбиваем текст на слова (токены)\n",
    "sequence = [\"<start>\"] + sequence + [\"<end>\"] # добавление токенов старта (<start>) и конца (<end>)\n",
    "text = \" \".join(sequence) # собираем последовательность слов обратно в строку, но теперь даже служебные символы разделены пробелами\n",
    "encoded_text = tokenizer.texts_to_sequences([text]) # токенизируем текст\n",
    "padded_text = pad_sequences(encoded_text, maxlen=MAX_LEN, padding=\"post\", truncating=\"post\", value=0) # приводим вектора токенов к единой размерности MAX_LEN с помощью padding_а и truncating_а (заполняем значением value)\n",
    "\n",
    "decoded_sentence = decode_sequence(padded_text)\n",
    "print(f\"Обработанный текст: {decoded_sentence}\")"
   ]
  }
 ],
 "metadata": {
  "kernelspec": {
   "display_name": "gpu",
   "language": "python",
   "name": "python3"
  },
  "language_info": {
   "codemirror_mode": {
    "name": "ipython",
    "version": 3
   },
   "file_extension": ".py",
   "mimetype": "text/x-python",
   "name": "python",
   "nbconvert_exporter": "python",
   "pygments_lexer": "ipython3",
   "version": "3.9.12"
  }
 },
 "nbformat": 4,
 "nbformat_minor": 2
}
